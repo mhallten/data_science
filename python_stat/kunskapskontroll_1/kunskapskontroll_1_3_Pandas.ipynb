{
 "cells": [
  {
   "cell_type": "markdown",
   "id": "b540290b",
   "metadata": {},
   "source": [
    "# Pandas\n",
    "Read \"10 minutes to Pandas\": https://pandas.pydata.org/docs/user_guide/10min.html before solving the exercises.\n",
    "We will use the data set \"cars_data\" in the exercises below. "
   ]
  },
  {
   "cell_type": "code",
   "execution_count": 1,
   "id": "fa266ee4",
   "metadata": {},
   "outputs": [],
   "source": [
    "# Importing Pandas. \n",
    "import pandas as pd"
   ]
  },
  {
   "cell_type": "markdown",
   "id": "addb587b",
   "metadata": {},
   "source": [
    "### Explain what a CSV file is."
   ]
  },
  {
   "cell_type": "code",
   "execution_count": null,
   "id": "6047c36f",
   "metadata": {},
   "outputs": [],
   "source": [
    "\"\"\" It is a file with values seperated with commas . \"\"\""
   ]
  },
  {
   "cell_type": "markdown",
   "id": "5c61e5d9",
   "metadata": {},
   "source": [
    "### Load the data set \"cars_data\" through Pandas. "
   ]
  },
  {
   "cell_type": "code",
   "execution_count": 2,
   "id": "91923010",
   "metadata": {},
   "outputs": [],
   "source": [
    "# When reading in the data, either you have the data file in the same folder as your python script\n",
    "# or in a seperate folder.\n",
    "\n",
    "# Code below can be ran if you have the data file in the same folder as the script\n",
    "cars = pd.read_csv(\"cars_data.csv\")\n",
    "\n",
    "# Code below can be ran if you have the data file in another script. \n",
    "# Notice, you must change the path according to where you have the data in your computer. \n",
    "# pd.read_csv(r'C:\\Users\\Antonio Prgomet\\Documents\\ec_utbildning\\kursframstallning\\ds23\\python_stat\\exercises\\numpy_matplot_pandas\\cars_data.csv')"
   ]
  },
  {
   "cell_type": "markdown",
   "id": "b9ac1d06",
   "metadata": {},
   "source": [
    "### Print the first 10 rows of the data. "
   ]
  },
  {
   "cell_type": "code",
   "execution_count": 3,
   "id": "2886ff8e",
   "metadata": {},
   "outputs": [
    {
     "name": "stdout",
     "output_type": "stream",
     "text": [
      "   index      company   body-style  wheel-base  length engine-type  \\\n",
      "0      0  alfa-romero  convertible        88.6   168.8        dohc   \n",
      "1      1  alfa-romero  convertible        88.6   168.8        dohc   \n",
      "2      2  alfa-romero    hatchback        94.5   171.2        ohcv   \n",
      "3      3         audi        sedan        99.8   176.6         ohc   \n",
      "4      4         audi        sedan        99.4   176.6         ohc   \n",
      "5      5         audi        sedan        99.8   177.3         ohc   \n",
      "6      6         audi        wagon       105.8   192.7         ohc   \n",
      "7      9          bmw        sedan       101.2   176.8         ohc   \n",
      "8     10          bmw        sedan       101.2   176.8         ohc   \n",
      "9     11          bmw        sedan       101.2   176.8         ohc   \n",
      "\n",
      "  num-of-cylinders  horsepower  average-mileage    price  \n",
      "0             four         111               21  13495.0  \n",
      "1             four         111               21  16500.0  \n",
      "2              six         154               19  16500.0  \n",
      "3             four         102               24  13950.0  \n",
      "4             five         115               18  17450.0  \n",
      "5             five         110               19  15250.0  \n",
      "6             five         110               19  18920.0  \n",
      "7             four         101               23  16430.0  \n",
      "8             four         101               23  16925.0  \n",
      "9              six         121               21  20970.0  \n"
     ]
    }
   ],
   "source": [
    "print(cars.head(10))"
   ]
  },
  {
   "cell_type": "markdown",
   "id": "ec02774b",
   "metadata": {},
   "source": [
    "### Print the last 5 rows. "
   ]
  },
  {
   "cell_type": "code",
   "execution_count": 4,
   "id": "437d158f",
   "metadata": {},
   "outputs": [
    {
     "name": "stdout",
     "output_type": "stream",
     "text": [
      "    index     company body-style  wheel-base  length engine-type  \\\n",
      "56     81  volkswagen      sedan        97.3   171.7         ohc   \n",
      "57     82  volkswagen      sedan        97.3   171.7         ohc   \n",
      "58     86  volkswagen      sedan        97.3   171.7         ohc   \n",
      "59     87       volvo      sedan       104.3   188.8         ohc   \n",
      "60     88       volvo      wagon       104.3   188.8         ohc   \n",
      "\n",
      "   num-of-cylinders  horsepower  average-mileage    price  \n",
      "56             four          85               27   7975.0  \n",
      "57             four          52               37   7995.0  \n",
      "58             four         100               26   9995.0  \n",
      "59             four         114               23  12940.0  \n",
      "60             four         114               23  13415.0  \n"
     ]
    }
   ],
   "source": [
    "print(cars.tail(5))"
   ]
  },
  {
   "cell_type": "markdown",
   "id": "e0cd9329",
   "metadata": {},
   "source": [
    "### By using the info method, check how many non-null rows each column have. "
   ]
  },
  {
   "cell_type": "code",
   "execution_count": 6,
   "id": "efe71f5f",
   "metadata": {},
   "outputs": [
    {
     "name": "stdout",
     "output_type": "stream",
     "text": [
      "<class 'pandas.core.frame.DataFrame'>\n",
      "RangeIndex: 61 entries, 0 to 60\n",
      "Data columns (total 10 columns):\n",
      " #   Column            Non-Null Count  Dtype  \n",
      "---  ------            --------------  -----  \n",
      " 0   index             61 non-null     int64  \n",
      " 1   company           61 non-null     object \n",
      " 2   body-style        61 non-null     object \n",
      " 3   wheel-base        61 non-null     float64\n",
      " 4   length            61 non-null     float64\n",
      " 5   engine-type       61 non-null     object \n",
      " 6   num-of-cylinders  61 non-null     object \n",
      " 7   horsepower        61 non-null     int64  \n",
      " 8   average-mileage   61 non-null     int64  \n",
      " 9   price             58 non-null     float64\n",
      "dtypes: float64(3), int64(3), object(4)\n",
      "memory usage: 4.9+ KB\n",
      "None\n"
     ]
    }
   ],
   "source": [
    "print(cars.info())"
   ]
  },
  {
   "cell_type": "markdown",
   "id": "887f8c9c",
   "metadata": {},
   "source": [
    "### If any column has a missing value, drop the entire row. Notice, the operation should be inplace meaning you change the dataframe itself."
   ]
  },
  {
   "cell_type": "code",
   "execution_count": 8,
   "id": "60b660dc",
   "metadata": {},
   "outputs": [
    {
     "name": "stdout",
     "output_type": "stream",
     "text": [
      "<class 'pandas.core.frame.DataFrame'>\n",
      "Int64Index: 58 entries, 0 to 60\n",
      "Data columns (total 10 columns):\n",
      " #   Column            Non-Null Count  Dtype  \n",
      "---  ------            --------------  -----  \n",
      " 0   index             58 non-null     int64  \n",
      " 1   company           58 non-null     object \n",
      " 2   body-style        58 non-null     object \n",
      " 3   wheel-base        58 non-null     float64\n",
      " 4   length            58 non-null     float64\n",
      " 5   engine-type       58 non-null     object \n",
      " 6   num-of-cylinders  58 non-null     object \n",
      " 7   horsepower        58 non-null     int64  \n",
      " 8   average-mileage   58 non-null     int64  \n",
      " 9   price             58 non-null     float64\n",
      "dtypes: float64(3), int64(3), object(4)\n",
      "memory usage: 5.0+ KB\n",
      "None\n"
     ]
    }
   ],
   "source": [
    "cars = cars.dropna()\n"
   ]
  },
  {
   "cell_type": "markdown",
   "id": "614eeffe",
   "metadata": {},
   "source": [
    "### Calculate the mean of each numeric column. "
   ]
  },
  {
   "cell_type": "code",
   "execution_count": 9,
   "id": "49e06c7c",
   "metadata": {},
   "outputs": [
    {
     "name": "stderr",
     "output_type": "stream",
     "text": [
      "C:\\Users\\mhulten1\\AppData\\Local\\Temp/ipykernel_10332/1764053374.py:1: FutureWarning: Dropping of nuisance columns in DataFrame reductions (with 'numeric_only=None') is deprecated; in a future version this will raise TypeError.  Select only valid columns before calling the reduction.\n",
      "  cars.mean()\n"
     ]
    },
    {
     "data": {
      "text/plain": [
       "index                 40.827586\n",
       "wheel-base            98.620690\n",
       "length               173.646552\n",
       "horsepower           106.051724\n",
       "average-mileage       25.534483\n",
       "price              15387.000000\n",
       "dtype: float64"
      ]
     },
     "execution_count": 9,
     "metadata": {},
     "output_type": "execute_result"
    }
   ],
   "source": [
    "cars.mean()"
   ]
  },
  {
   "cell_type": "markdown",
   "id": "f4f79bfd",
   "metadata": {},
   "source": [
    "### Select the rows where the column \"company\" is equal to 'honda'. "
   ]
  },
  {
   "cell_type": "code",
   "execution_count": 10,
   "id": "1e373079",
   "metadata": {},
   "outputs": [],
   "source": [
    "honda_df = cars[cars.company == 'honda']"
   ]
  },
  {
   "cell_type": "markdown",
   "id": "0a3543eb",
   "metadata": {},
   "source": [
    "### Sort the data set by price in descending order. This should *not* be an inplace operation. "
   ]
  },
  {
   "cell_type": "code",
   "execution_count": 12,
   "id": "8455abaa",
   "metadata": {},
   "outputs": [
    {
     "data": {
      "text/plain": [
       "35    45400.0\n",
       "11    41315.0\n",
       "34    40960.0\n",
       "46    37028.0\n",
       "12    36880.0\n",
       "26    36000.0\n",
       "25    35550.0\n",
       "45    34028.0\n",
       "24    32250.0\n",
       "10    30760.0\n",
       "33    28248.0\n",
       "32    25552.0\n",
       "9     20970.0\n",
       "6     18920.0\n",
       "31    18344.0\n",
       "4     17450.0\n",
       "8     16925.0\n",
       "2     16500.0\n",
       "1     16500.0\n",
       "7     16430.0\n",
       "54    15750.0\n",
       "5     15250.0\n",
       "3     13950.0\n",
       "44    13499.0\n",
       "0     13495.0\n",
       "60    13415.0\n",
       "19    12945.0\n",
       "59    12940.0\n",
       "30    11845.0\n",
       "20    10345.0\n",
       "58     9995.0\n",
       "53     8778.0\n",
       "39     8189.0\n",
       "57     7995.0\n",
       "56     7975.0\n",
       "52     7898.0\n",
       "55     7775.0\n",
       "43     7349.0\n",
       "18     7295.0\n",
       "40     7099.0\n",
       "38     6989.0\n",
       "51     6918.0\n",
       "42     6849.0\n",
       "29     6795.0\n",
       "21     6785.0\n",
       "41     6649.0\n",
       "15     6575.0\n",
       "50     6488.0\n",
       "16     6377.0\n",
       "49     6338.0\n",
       "14     6295.0\n",
       "17     6229.0\n",
       "37     6189.0\n",
       "28     6095.0\n",
       "36     5389.0\n",
       "48     5348.0\n",
       "27     5195.0\n",
       "13     5151.0\n",
       "Name: price, dtype: float64"
      ]
     },
     "execution_count": 12,
     "metadata": {},
     "output_type": "execute_result"
    }
   ],
   "source": [
    "cars.price.sort_values(ascending=False)"
   ]
  },
  {
   "cell_type": "markdown",
   "id": "1527f255",
   "metadata": {},
   "source": [
    "### Select the rows where the column \"company\" is equal to any of the values (audi, bmw, porsche)."
   ]
  },
  {
   "cell_type": "code",
   "execution_count": 19,
   "id": "60e300ae",
   "metadata": {},
   "outputs": [],
   "source": [
    "companies = ['audi', 'bmw', 'porsche']\n",
    "\n",
    "selected_companies = cars[cars.company.isin(companies)]"
   ]
  },
  {
   "cell_type": "markdown",
   "id": "3ce133eb",
   "metadata": {},
   "source": [
    "### Find the number of cars (rows) for each company. "
   ]
  },
  {
   "cell_type": "code",
   "execution_count": 20,
   "id": "7e6a9d43",
   "metadata": {},
   "outputs": [],
   "source": [
    "count_cars_by_company = cars[['company']].value_counts().reset_index()\n",
    "print(count_cars_by_company)        "
   ]
  },
  {
   "cell_type": "markdown",
   "id": "5beef62f",
   "metadata": {},
   "source": [
    "### Find the maximum price for each company. "
   ]
  },
  {
   "cell_type": "code",
   "execution_count": 23,
   "id": "d91dc8be",
   "metadata": {},
   "outputs": [
    {
     "data": {
      "text/plain": [
       "company\n",
       "alfa-romero      16500.0\n",
       "audi             18920.0\n",
       "bmw              41315.0\n",
       "chevrolet         6575.0\n",
       "dodge             6377.0\n",
       "honda            12945.0\n",
       "isuzu             6785.0\n",
       "jaguar           36000.0\n",
       "mazda            18344.0\n",
       "mercedes-benz    45400.0\n",
       "mitsubishi        8189.0\n",
       "nissan           13499.0\n",
       "porsche          37028.0\n",
       "toyota           15750.0\n",
       "volkswagen        9995.0\n",
       "volvo            13415.0\n",
       "Name: price, dtype: float64"
      ]
     },
     "execution_count": 23,
     "metadata": {},
     "output_type": "execute_result"
    }
   ],
   "source": [
    "max_price = cars.groupby(['company'])['price'].max()"
   ]
  }
 ],
 "metadata": {
  "kernelspec": {
   "display_name": "Python 3 (ipykernel)",
   "language": "python",
   "name": "python3"
  },
  "language_info": {
   "codemirror_mode": {
    "name": "ipython",
    "version": 3
   },
   "file_extension": ".py",
   "mimetype": "text/x-python",
   "name": "python",
   "nbconvert_exporter": "python",
   "pygments_lexer": "ipython3",
   "version": "3.9.7"
  }
 },
 "nbformat": 4,
 "nbformat_minor": 5
}
