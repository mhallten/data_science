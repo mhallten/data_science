{
 "cells": [
  {
   "cell_type": "markdown",
   "id": "dacf74e6",
   "metadata": {},
   "source": [
    "# NumPy"
   ]
  },
  {
   "cell_type": "markdown",
   "id": "01b2bf34",
   "metadata": {},
   "source": [
    "Read the links: https://numpy.org/doc/stable/user/quickstart.html  and https://numpy.org/doc/stable/user/basics.broadcasting.html  before solving the exercises. "
   ]
  },
  {
   "cell_type": "code",
   "execution_count": null,
   "id": "1f79e4a6",
   "metadata": {},
   "outputs": [],
   "source": [
    "import numpy as np"
   ]
  },
  {
   "cell_type": "markdown",
   "id": "7dae6889",
   "metadata": {},
   "source": [
    "### Print out the dimension (number of axes), shape, size and the datatype of the matrix A."
   ]
  },
  {
   "cell_type": "code",
   "execution_count": null,
   "id": "7b3678cd",
   "metadata": {},
   "outputs": [],
   "source": [
    "A = np.arange(1, 16).reshape(3,5)"
   ]
  },
  {
   "cell_type": "code",
   "execution_count": null,
   "id": "31d39235",
   "metadata": {},
   "outputs": [],
   "source": [
    "print(A.shape)\n",
    "print(A.size)\n",
    "print(A.dtype)"
   ]
  },
  {
   "cell_type": "markdown",
   "id": "e56d2a96",
   "metadata": {},
   "source": [
    "### Do the following computations on the matrices B and C: \n",
    "* Elementwise subtraction. \n",
    "* Elementwise multiplication. \n",
    "* Matrix multiplication (by default you should use the @ operator)."
   ]
  },
  {
   "cell_type": "code",
   "execution_count": null,
   "id": "a7053fbb",
   "metadata": {},
   "outputs": [],
   "source": [
    "B = np.arange(1, 10).reshape(3, 3)\n",
    "C = np.ones((3, 3))*2\n",
    "\n",
    "subtraction = B - C\n",
    "addition = B + C\n",
    "multi = B@C\n",
    "\n",
    "print(B)\n",
    "print(C)\n",
    "print(addition)\n",
    "print(subtraction)\n",
    "print(multi)\n"
   ]
  },
  {
   "cell_type": "code",
   "execution_count": null,
   "id": "3cd794ae",
   "metadata": {},
   "outputs": [],
   "source": []
  },
  {
   "cell_type": "markdown",
   "id": "96030d53",
   "metadata": {},
   "source": [
    "### Do the following calculations on the matrix:\n",
    "* Exponentiate each number elementwise (use the np.exp function).\n",
    "\n",
    "* Calculate the minimum value in the whole matrix. \n",
    "* Calculcate the minimum value in each row. \n",
    "* Calculcate the minimum value in each column. \n",
    "\n",
    "\n",
    "* Find the index value for the minimum value in the whole matrix (hint: use np.argmin).\n",
    "* Find the index value for the minimum value in each row (hint: use np.argmin).\n",
    "\n",
    "\n",
    "* Calculate the sum for all elements.\n",
    "* Calculate the mean for each column. \n",
    "* Calculate the median for each column. "
   ]
  },
  {
   "cell_type": "code",
   "execution_count": null,
   "id": "f8a9166b",
   "metadata": {},
   "outputs": [],
   "source": [
    "B = np.arange(1, 10).reshape(3, 3)\n",
    "print(B)"
   ]
  },
  {
   "cell_type": "code",
   "execution_count": null,
   "id": "f03f24f7",
   "metadata": {},
   "outputs": [],
   "source": [
    "exp = np.exp(B)\n",
    "print(exp)\n",
    "\n",
    "min_value = np.min(B)\n",
    "print(min_value)\n",
    "\n",
    "max_value = np.max(B)\n",
    "print(max_value)\n",
    "\n",
    "min_value_column = np.min(B, 0)\n",
    "print(min_value_column)\n",
    "\n",
    "min_value_row = np.min(B, 1)\n",
    "print(min_value_row)\n",
    "\n",
    "min_values_index = np.argmin(B)\n",
    "print(min_values_index)\n",
    "\n",
    "min_values_row_index = np.argmin(B, 1)\n",
    "print(min_values_row_index)\n",
    "\n",
    "matrix_sum = B.sum()\n",
    "print(matrix_sum)\n",
    "\n",
    "matrix_mean = B.mean()\n",
    "print(matrix_mean)\n",
    "\n",
    "matrix_median = np.median(B)\n",
    "print(matrix_median)"
   ]
  },
  {
   "cell_type": "markdown",
   "id": "541eb7ba",
   "metadata": {},
   "source": [
    "### What does it mean when you provide fewer indices than axes when slicing? See example below."
   ]
  },
  {
   "cell_type": "code",
   "execution_count": null,
   "id": "9c8abf56",
   "metadata": {},
   "outputs": [],
   "source": [
    "print(A)"
   ]
  },
  {
   "cell_type": "code",
   "execution_count": null,
   "id": "69415f7b",
   "metadata": {},
   "outputs": [],
   "source": [
    "A[1]"
   ]
  },
  {
   "cell_type": "markdown",
   "id": "6c53541b",
   "metadata": {},
   "source": [
    "**Answer:**"
   ]
  },
  {
   "cell_type": "code",
   "execution_count": null,
   "id": "de01e120",
   "metadata": {},
   "outputs": [],
   "source": []
  },
  {
   "cell_type": "markdown",
   "id": "6652d0c9",
   "metadata": {},
   "source": [
    "### Iterating over multidimensional arrays is done with respect to the first axis, so in the example below we iterate trough the rows. If you would like to iterate through the array *elementwise*, how would you do that?"
   ]
  },
  {
   "cell_type": "code",
   "execution_count": null,
   "id": "9459864f",
   "metadata": {},
   "outputs": [],
   "source": [
    "A"
   ]
  },
  {
   "cell_type": "code",
   "execution_count": null,
   "id": "a671bb5a",
   "metadata": {},
   "outputs": [],
   "source": [
    "for i in A:\n",
    "    print(i)"
   ]
  },
  {
   "cell_type": "code",
   "execution_count": null,
   "id": "f4e443a0",
   "metadata": {},
   "outputs": [],
   "source": [
    "for i in A:\n",
    "    for x in i:\n",
    "        print(x)"
   ]
  },
  {
   "cell_type": "markdown",
   "id": "608a2583",
   "metadata": {},
   "source": [
    "### Explain what the code below does. More specifically, b has three axes - what does this mean? "
   ]
  },
  {
   "cell_type": "code",
   "execution_count": null,
   "id": "f8f9b26f",
   "metadata": {},
   "outputs": [],
   "source": [
    "a = np.arange(30)\n",
    "b = a.reshape((2, 3, -1))\n",
    "print(a)\n",
    "print()\n",
    "\n",
    "print(b)"
   ]
  },
  {
   "cell_type": "code",
   "execution_count": null,
   "id": "863a45df",
   "metadata": {},
   "outputs": [],
   "source": [
    "\"\"\" It creates a three dimensional array.\n",
    "The first dimension has a size of two = two groups\n",
    "The second dimension has the size of three 0 each group has three rows\n",
    "The third dimension is calculated by numpy when defined as -1 = five elements in each row\"\"\""
   ]
  },
  {
   "cell_type": "markdown",
   "id": "ab5933d5",
   "metadata": {},
   "source": [
    "### Broadcasting\n",
    "**Read the following link about broadcasting: https://numpy.org/doc/stable/user/basics.broadcasting.html#basics-broadcasting**"
   ]
  },
  {
   "cell_type": "markdown",
   "id": "039805ba",
   "metadata": {},
   "source": [
    "# Remark on Broadcasting when doing Linear Algebra calculations in Python. "
   ]
  },
  {
   "cell_type": "markdown",
   "id": "c4bcc147",
   "metadata": {},
   "source": [
    "### From the mathematical rules of matrix addition, the operation below (m1 + m2) does not make sense. The reason is that matrix addition requires two matrices of the same size. In Python however, it works due to broadcasting rules in NumPy. So you must be careful when doing Linear Algebra calculations in Python since they do not follow the \"mathematical rules\". This can however easily be handled by doing some simple programming, for example validating that two matrices have the same shape is easy if you for instance want to add two matrices. "
   ]
  },
  {
   "cell_type": "code",
   "execution_count": null,
   "id": "1fd46778",
   "metadata": {},
   "outputs": [],
   "source": [
    "m1 = np.array([[1, 2], [3, 4]])\n",
    "m2 = np.array([1, 1])\n",
    "\n",
    "print(m1.shape)\n",
    "print(m2.shape)\n",
    "print(m1 + m2)"
   ]
  },
  {
   "cell_type": "markdown",
   "id": "047d6576",
   "metadata": {},
   "source": [
    "### The example below would also not be allowed if following the \"mathematical rules\" in Linear Algebra. But it works due to broadcasting in NumPy. "
   ]
  },
  {
   "cell_type": "code",
   "execution_count": null,
   "id": "5e6ef2e4",
   "metadata": {},
   "outputs": [],
   "source": [
    "v1 = np.array([1, 2, 3])\n",
    "print(v1 + 1)"
   ]
  },
  {
   "cell_type": "code",
   "execution_count": null,
   "id": "e2cbae26",
   "metadata": {},
   "outputs": [],
   "source": [
    "A = np.arange(1, 5).reshape(2,2)\n",
    "print(A)\n",
    "\n",
    "b = np.array([2, 2])\n",
    "print(b)"
   ]
  },
  {
   "cell_type": "markdown",
   "id": "722fd5cd",
   "metadata": {},
   "source": [
    "# Linear Algebra Exercises"
   ]
  },
  {
   "cell_type": "markdown",
   "id": "b8935099",
   "metadata": {},
   "source": [
    "The exercies are taken from the \"Matrix Algebra for Engineers\" by Chasnov: https://www.math.hkust.edu.hk/~machas/matrix-algebra-for-engineers.pdf .\n",
    "\n",
    "Do the following exercises: \n",
    "* Chapter 2, exercise 1-3.\n",
    "* Quiz on p.11, exercise 2. \n",
    "* Chapter 6, exercise 1. \n",
    "* Quiz on p.19, exercise 3. \n",
    "\n",
    "\n",
    "* Chapter 10, exercise 1. \n",
    "* Chapter 12 exercise 1. \n"
   ]
  },
  {
   "cell_type": "code",
   "execution_count": 11,
   "id": "a452a77a",
   "metadata": {},
   "outputs": [
    {
     "name": "stdout",
     "output_type": "stream",
     "text": [
      "True\n",
      "[[ 4 -2  1]\n",
      " [ 2 -4 -2]]\n",
      "[[1 2]\n",
      " [2 1]]\n",
      "[[3 4]\n",
      " [4 3]]\n",
      "[[1]\n",
      " [2]]\n"
     ]
    }
   ],
   "source": [
    "A = np.array([[2, 1, -1], [1, -1, 1]])\n",
    "B = np.array([[4, -2, 1], [2, -4, -2]])\n",
    "\n",
    "C = np.array([[1, 2], [2, 1]])\n",
    "D = np.array([[3, 4], [4, 3]])\n",
    "\n",
    "E = np.array([[1], [2]])\n",
    "\n",
    "print(isinstance(A, np.ndarray))\n",
    "print(B)\n",
    "print(C)\n",
    "print(D)\n",
    "print(E)"
   ]
  },
  {
   "cell_type": "markdown",
   "id": "9d8366cc",
   "metadata": {},
   "source": [
    "**Chap2. Question 1.**\n",
    "\n",
    "**Write a function \"add_mult_matrices\" that takes two matrices as input arguments (validate that the input are of the type numpy.ndarray by using the isinstance function), a third argument that is either 'add' or 'multiply' that specifies if you want to add or multiply the matrices (validate that the third argument is either 'add' or 'multiply'). When doing matrix addition, validate that the matrices have the same size. When doing matrix multiplication, validate that the sizes conform (i.e. number of columns in the first matrix is equal to the number of rows in the second matrix).**\n",
    "\n",
    "In this exercise, create a function that takes two matrices as input and either adds or multiplies them by specifying a argument as either 'add' or 'multiply'. Validate that both matrices taken as input are of the type ndarray (use the isinstance function)."
   ]
  },
  {
   "cell_type": "code",
   "execution_count": 12,
   "id": "535ee48c",
   "metadata": {},
   "outputs": [
    {
     "name": "stdout",
     "output_type": "stream",
     "text": [
      "m1 + m2 = [[11 10]\n",
      " [10 11]]\n"
     ]
    }
   ],
   "source": [
    "def add_mult_matrices(m1, m2, calc_method=''):\n",
    "    if isinstance(m1, np.ndarray) and isinstance(m2, np.ndarray):\n",
    "        if calc_method == 'add':\n",
    "            if m1.shape == m2.shape:\n",
    "                print('m1 + m2 =', m1+m2)\n",
    "            else:\n",
    "                raise ValueError('m1 and m2 does not have the same size')\n",
    "        elif calc_method == 'multiply':\n",
    "                if m1.shape[1] == m2.shape[0]:\n",
    "                    print('m1 + m2 =', m1 @ m2)\n",
    "                else:\n",
    "                    raise ValueError('m1 and m2 does not have the right size for multiplication')\n",
    "        else:\n",
    "            raise ValueError('Choose either \"add\" or \"multiply\"')\n",
    "    elif isinstance(m1, np.ndarray):\n",
    "        raise ValueError(\"m1 is a NumPy array, but m2 is not\")\n",
    "    elif isinstance(m2, np.ndarray):\n",
    "        raise ValueError(\"m2 is a NumPy array, but m1 is not\")\n",
    "    else:\n",
    "        raise(\"Neither m1 nor m2 is a NumPy array\")\n",
    "\n",
    "W = add_mult_matrices(C, D, 'multiply')"
   ]
  },
  {
   "cell_type": "markdown",
   "id": "5000c829",
   "metadata": {},
   "source": [
    "**Chap2. Question 2**"
   ]
  },
  {
   "cell_type": "code",
   "execution_count": null,
   "id": "44dab740",
   "metadata": {},
   "outputs": [],
   "source": [
    "A = np.array([[1, 2], [2, 4]])\n",
    "B = np.array([[2, 1], [1, 3]])\n",
    "C = np.array([[4, 3], [0, 2]])\n",
    "\n",
    "def check_matrices(m1, m2, m3):\n",
    "    if (m2!=m3).all():\n",
    "        if (m1 @ m2 == m1 @ m3).all():\n",
    "            print('AB and AC are equal, but B and C are NOT equal')\n",
    "        else:\n",
    "            print('AB and AC are NOT equal, and B and C are NOT equal')\n",
    "    else:\n",
    "        print('B and C are equal')\n",
    "        \n",
    "check = check_matrices(A, B, C)\n",
    "\n"
   ]
  },
  {
   "cell_type": "markdown",
   "id": "a7f5b140",
   "metadata": {},
   "source": [
    "**Chap2. Question 3**"
   ]
  },
  {
   "cell_type": "code",
   "execution_count": null,
   "id": "668b1323",
   "metadata": {},
   "outputs": [],
   "source": [
    "A = np.array([[1, 1, 1], [1, 2, 3], [1, 3, 4]])\n",
    "D = np.array([[2, 0, 0], [0, 3, 0], [0, 0, 4]])\n",
    "\n",
    "AD = A @ D\n",
    "DA = D @ A\n",
    "print(AD)\n",
    "print(DA)"
   ]
  },
  {
   "cell_type": "markdown",
   "id": "334ca623",
   "metadata": {},
   "source": [
    "**Quiz p.11, Question 2**"
   ]
  },
  {
   "cell_type": "code",
   "execution_count": null,
   "id": "b031a786",
   "metadata": {},
   "outputs": [],
   "source": [
    "M1 = np.array([[1, -1], [-1, 1]])\n",
    "M2 = np.array([[-1, 1], [1, -1]])\n",
    "\n",
    "A = np.array([[-2, 2], [2, -2]])\n",
    "B = np.array([[2, -2], [-2, 2]])\n",
    "C = np.array([[-2, 2], [-2, 2]])\n",
    "D = np.array([[-2, -2], [2, 2]])\n",
    "\n",
    "def check_m1_m2(m1, m2):\n",
    "    if (m1 @ m2 == A).all():\n",
    "        print('M1 * M2 == A\\n', 'A:\\n', A)\n",
    "    elif (m1 @ m2 == B).all():\n",
    "        print('M1 * M2 == B')\n",
    "    elif (m1 @ m2 == C).all():\n",
    "        print('M1 * M2 == C')\n",
    "    elif (m1 @ m2 == D).all():\n",
    "        print('M1 * M2 == D')\n",
    "    else:\n",
    "        raise ValueError('M1 * M2 is not equal to any of the matrices')\n",
    "\n",
    "print(check_m1_m2(M1, M2))"
   ]
  },
  {
   "cell_type": "markdown",
   "id": "fbfb4124",
   "metadata": {},
   "source": [
    "**Chap 6. Question 1**"
   ]
  },
  {
   "cell_type": "code",
   "execution_count": 2,
   "id": "9c68d160",
   "metadata": {},
   "outputs": [
    {
     "name": "stdout",
     "output_type": "stream",
     "text": [
      "Inverse of A:\n",
      "[[ 5. -6.]\n",
      " [-4.  5.]]\n",
      "\n",
      "Inverse of B:\n",
      "[[ 0.5        -0.66666667]\n",
      " [-0.5         1.        ]]\n"
     ]
    }
   ],
   "source": [
    "A = np.array([[5, 6], [4, 5]])\n",
    "B = np.array([[6, 4], [3, 3]])\n",
    "\n",
    "A_inverse = np.linalg.inv(A)\n",
    "B_inverse = np.linalg.inv(B)\n",
    "\n",
    "print(\"Inverse of A:\")\n",
    "print(A_inverse)\n",
    "\n",
    "print(\"\\nInverse of B:\")\n",
    "print(B_inverse)"
   ]
  },
  {
   "cell_type": "markdown",
   "id": "574b6d18",
   "metadata": {},
   "source": [
    "**Quiz p.19, Question 3**"
   ]
  },
  {
   "cell_type": "code",
   "execution_count": 4,
   "id": "c4cc11eb",
   "metadata": {},
   "outputs": [
    {
     "name": "stdout",
     "output_type": "stream",
     "text": [
      "Inverse of A:\n",
      "[[ 1.  -1. ]\n",
      " [-0.5  1. ]]\n"
     ]
    }
   ],
   "source": [
    "A = np.array([[2, 2], [1, 2]])\n",
    "A_inverse = np.linalg.inv(A)\n",
    "print(\"Inverse of A:\")\n",
    "print(A_inverse)"
   ]
  },
  {
   "cell_type": "markdown",
   "id": "5de93779",
   "metadata": {},
   "source": [
    "**Chap10. Question 1 a)**"
   ]
  },
  {
   "cell_type": "code",
   "execution_count": 6,
   "id": "e9a63544",
   "metadata": {},
   "outputs": [
    {
     "name": "stdout",
     "output_type": "stream",
     "text": [
      "[[2 2]\n",
      " [1 2]] \n",
      " Matrix is not orthogonal\n",
      "[[ 1  0]\n",
      " [ 0 -1]] \n",
      " Matrix is orthogonal\n",
      "[[0 1]\n",
      " [1 0]] \n",
      " Matrix is orthogonal\n",
      "[[ 1 -1]\n",
      " [ 0  0]] \n",
      " Matrix is not orthogonal\n"
     ]
    }
   ],
   "source": [
    "array_a = np.array([[2, 2], [1, 2]])\n",
    "array_b = np.array([[1, 0], [0, -1]])\n",
    "array_c = np.array([[0, 1], [1, 0]])\n",
    "array_d = np.array([[1, -1], [0, -0]])\n",
    "\n",
    "array_list = [array_a, array_b, array_c, array_d]\n",
    "\n",
    "for array in array_list:\n",
    "    array_transpose = array.T\n",
    "    is_orthogonal = np.allclose(np.dot(array_transpose, array), np.eye(array.shape[0]))\n",
    "    \n",
    "    if is_orthogonal:\n",
    "        print(array, '\\n Matrix is orthogonal')\n",
    "    else:\n",
    "        print(array, '\\n Matrix is not orthogonal')"
   ]
  },
  {
   "cell_type": "markdown",
   "id": "3f49e9e1",
   "metadata": {},
   "source": [
    "**Chap10. Question 1 b)**"
   ]
  },
  {
   "cell_type": "code",
   "execution_count": null,
   "id": "6f6e72fb",
   "metadata": {},
   "outputs": [],
   "source": [
    "\"\"\" See above code, i did A-D in the same code \"\"\""
   ]
  },
  {
   "cell_type": "markdown",
   "id": "beb0a8af",
   "metadata": {},
   "source": [
    "**Chap 12. Question 1**"
   ]
  },
  {
   "cell_type": "code",
   "execution_count": 7,
   "id": "4fe15c46",
   "metadata": {},
   "outputs": [
    {
     "name": "stdout",
     "output_type": "stream",
     "text": [
      "Inverse of A:\n",
      "[[ 0.66666667  1.33333333  0.5       ]\n",
      " [ 1.          2.          0.5       ]\n",
      " [-3.         -5.         -1.        ]]\n"
     ]
    }
   ],
   "source": [
    "A = np.array([[3, -7, -2], [-3, 5, 1], [6, -4, 0]])\n",
    "A_inverse = np.linalg.inv(A)\n",
    "print(\"Inverse of A:\")\n",
    "print(A_inverse)"
   ]
  },
  {
   "cell_type": "markdown",
   "id": "6a4a524f",
   "metadata": {},
   "source": [
    "### Copies and Views\n",
    "Read the following link: https://numpy.org/doc/stable/user/basics.copies.html"
   ]
  },
  {
   "cell_type": "markdown",
   "id": "6cbbeaf7",
   "metadata": {},
   "source": [
    "**Basic indexing creates a view, How can you check if v1 and v2 is a view or copy? If you change the last element in v2 to 123, will the last element in v1 be changed? Why?**"
   ]
  },
  {
   "cell_type": "code",
   "execution_count": 8,
   "id": "5b9ef4df",
   "metadata": {},
   "outputs": [
    {
     "name": "stdout",
     "output_type": "stream",
     "text": [
      "[0 1 2 3]\n",
      "[2 3]\n"
     ]
    }
   ],
   "source": [
    "v1 = np.arange(4)\n",
    "v2 = v1[-2:]\n",
    "print(v1)\n",
    "print(v2)"
   ]
  },
  {
   "cell_type": "code",
   "execution_count": 9,
   "id": "d2440489",
   "metadata": {},
   "outputs": [
    {
     "name": "stdout",
     "output_type": "stream",
     "text": [
      "None\n",
      "[0 1 2 3]\n"
     ]
    }
   ],
   "source": [
    "# The base attribute of a view returns the original array while it returns None for a copy.\n",
    "print(v1.base)\n",
    "print(v2.base)"
   ]
  },
  {
   "cell_type": "code",
   "execution_count": 10,
   "id": "c8752807",
   "metadata": {},
   "outputs": [
    {
     "name": "stdout",
     "output_type": "stream",
     "text": [
      "[  0   1   2 123]\n",
      "[  2 123]\n"
     ]
    }
   ],
   "source": [
    "# The last element in v1 will be changed aswell since v2 is a view, meaning they share the same data buffer.\n",
    "v2[-1] = 123\n",
    "print(v1)\n",
    "print(v2)"
   ]
  },
  {
   "cell_type": "code",
   "execution_count": null,
   "id": "3dd68221",
   "metadata": {},
   "outputs": [],
   "source": []
  }
 ],
 "metadata": {
  "kernelspec": {
   "display_name": "Python 3 (ipykernel)",
   "language": "python",
   "name": "python3"
  },
  "language_info": {
   "codemirror_mode": {
    "name": "ipython",
    "version": 3
   },
   "file_extension": ".py",
   "mimetype": "text/x-python",
   "name": "python",
   "nbconvert_exporter": "python",
   "pygments_lexer": "ipython3",
   "version": "3.9.7"
  }
 },
 "nbformat": 4,
 "nbformat_minor": 5
}
